{
 "cells": [
  {
   "cell_type": "code",
   "execution_count": 1,
   "id": "face4673",
   "metadata": {},
   "outputs": [],
   "source": [
    "import pandas as pd\n",
    "import numpy as np\n",
    "from sklearn import preprocessing, model_selection, neighbors\n",
    "from sklearn.model_selection import train_test_split\n",
    "from sklearn.preprocessing import StandardScaler"
   ]
  },
  {
   "cell_type": "code",
   "execution_count": 2,
   "id": "9e488bd9",
   "metadata": {},
   "outputs": [],
   "source": [
    "k = 4\n",
    "\n",
    "df_train = pd.read_csv(\"KDDTrain+.csv\", names=[\n",
    "    'duration', 'protocol_type', 'service', 'flag', 'src_bytes', 'dst_bytes', 'land',\n",
    "    'wrong_fragment', 'urgent', 'hot', 'num_failed_logins', 'logged_in', 'num_compromised',\n",
    "    'root_shell', 'su_attempted', 'num_root', 'num_file_creations', 'num_shells',\n",
    "    'num_access_files', 'num_outbound_cmds', 'is_host_login', 'is_guest_login', 'count',\n",
    "    'srv_count', 'serror_rate', 'srv_serror_rate', 'rerror_rate', 'srv_rerror_rate',\n",
    "    'same_srv_rate', 'diff_srv_rate', 'srv_diff_host_rate', 'dst_host_count',\n",
    "    'dst_host_srv_count', 'dst_host_same_srv_rate', 'dst_host_diff_srv_rate',\n",
    "    'dst_host_same_src_port_rate', 'dst_host_srv_diff_host_rate', 'dst_host_serror_rate',\n",
    "    'dst_host_srv_serror_rate', 'dst_host_rerror_rate', 'dst_host_srv_rerror_rate',\n",
    "    'label', 'difficulty_level'\n",
    "])\n",
    "\n",
    "df_test = pd.read_csv(\"KDDTest+.csv\", names=[\n",
    "    'duration', 'protocol_type', 'service', 'flag', 'src_bytes', 'dst_bytes', 'land',\n",
    "    'wrong_fragment', 'urgent', 'hot', 'num_failed_logins', 'logged_in', 'num_compromised',\n",
    "    'root_shell', 'su_attempted', 'num_root', 'num_file_creations', 'num_shells',\n",
    "    'num_access_files', 'num_outbound_cmds', 'is_host_login', 'is_guest_login', 'count',\n",
    "    'srv_count', 'serror_rate', 'srv_serror_rate', 'rerror_rate', 'srv_rerror_rate',\n",
    "    'same_srv_rate', 'diff_srv_rate', 'srv_diff_host_rate', 'dst_host_count',\n",
    "    'dst_host_srv_count', 'dst_host_same_srv_rate', 'dst_host_diff_srv_rate',\n",
    "    'dst_host_same_src_port_rate', 'dst_host_srv_diff_host_rate', 'dst_host_serror_rate',\n",
    "    'dst_host_srv_serror_rate', 'dst_host_rerror_rate', 'dst_host_srv_rerror_rate',\n",
    "    'label', 'difficulty_level'\n",
    "])"
   ]
  },
  {
   "cell_type": "code",
   "execution_count": null,
   "id": "60519bb1",
   "metadata": {},
   "outputs": [],
   "source": [
    "#Cabecalho com a pré apresentação dos dados (apenas os 5 primeiros dados)\n",
    "print(df_train.head())"
   ]
  },
  {
   "cell_type": "code",
   "execution_count": null,
   "id": "289e791a",
   "metadata": {},
   "outputs": [],
   "source": [
    "#Informações básicas sobre o dataframe como Número totais de coluna, bem como seus tipos e um resumo de quantidade por Tipos\n",
    "print(df_train.info())"
   ]
  },
  {
   "cell_type": "code",
   "execution_count": null,
   "id": "9ce1be9e",
   "metadata": {},
   "outputs": [],
   "source": [
    "#Breve descrição de algumas estatística dos atributos que possuem valor numérico\n",
    "print(df_train.describe())"
   ]
  },
  {
   "cell_type": "code",
   "execution_count": null,
   "id": "6278e206",
   "metadata": {},
   "outputs": [],
   "source": [
    "#Breve descrição dos atributos do tipo object (string)\n",
    "print(df_train.describe(include=['object']))"
   ]
  },
  {
   "cell_type": "code",
   "execution_count": 3,
   "id": "a564ea19",
   "metadata": {},
   "outputs": [],
   "source": [
    "# Definindo a classe que será verificada\n",
    "y_train = np.array(df_train['label'])\n",
    "\n",
    "# Excluindo o atributo \"Class\" que contem o resultado do Dataframe original uma vez que já obtivemos a copia na variável Y\n",
    "df_train.drop(['label'],axis=1,inplace=True)\n",
    "\n",
    "# Excluindo o atributo \"difficulty_level\" que contem o resultado do Dataframe original uma vez que já obtivemos a copia na variável Y\n",
    "df_train.drop(['difficulty_level'],axis=1,inplace=True)\n",
    "\n",
    "# Transformando em informação númerica os atributos do tipo object (texto)\n",
    "df_dummy_train = pd.get_dummies(df_train)\n",
    "\n",
    "# Passando a variável X a parte referente ao teste\n",
    "#x_train = np.array(df_dummy_train)"
   ]
  },
  {
   "cell_type": "code",
   "execution_count": 4,
   "id": "e9a24362",
   "metadata": {},
   "outputs": [],
   "source": [
    "# Definindo a classe que será verificada\n",
    "y_test = np.array(df_test['label'])\n",
    "\n",
    "# Excluindo o atributo \"Class\" que contem o resultado do Dataframe original uma vez que já obtivemos a copia na variável Y\n",
    "df_test.drop(['label'],axis=1,inplace=True)\n",
    "\n",
    "# Excluindo o atributo \"difficulty_level\" que contem o resultado do Dataframe original uma vez que já obtivemos a copia na variável Y\n",
    "df_test.drop(['difficulty_level'],axis=1,inplace=True)\n",
    "\n",
    "# Transformando em informação númerica os atributos do tipo object (texto)\n",
    "df_dummy_test = pd.get_dummies(df_test)\n",
    "\n",
    "# Passando a variável X a parte referente ao teste\n",
    "#x_test = np.array(df_dummy_test)"
   ]
  },
  {
   "cell_type": "code",
   "execution_count": null,
   "id": "e97e96d6",
   "metadata": {},
   "outputs": [],
   "source": [
    "# Alinhando colunas\n",
    "df_dummy_train, df_dummy_test = df_dummy_train.align(df_dummy_test, join='inner', axis=1)\n",
    "\n",
    "# Convertendo para arrays numpy\n",
    "x_train = np.array(df_dummy_train)\n",
    "x_test = np.array(df_dummy_test)"
   ]
  },
  {
   "cell_type": "code",
   "execution_count": 5,
   "id": "5c96970b",
   "metadata": {},
   "outputs": [],
   "source": [
    "# Supondo que df_train e df_test sejam seus DataFrames originais\n",
    "df_dummy_train = pd.get_dummies(df_train)\n",
    "df_dummy_test = pd.get_dummies(df_test)\n",
    "\n",
    "# Alinhando as colunas do DataFrame de teste com o DataFrame de treino\n",
    "df_dummy_test = df_dummy_test.reindex(columns=df_dummy_train.columns, fill_value=0)\n",
    "\n",
    "# Convertendo para arrays numpy\n",
    "x_train = np.array(df_dummy_train)\n",
    "x_test = np.array(df_dummy_test)"
   ]
  },
  {
   "cell_type": "code",
   "execution_count": 6,
   "id": "28a503e4",
   "metadata": {},
   "outputs": [],
   "source": [
    "def masstest(k,x_train,x_test,y_train,y_test):   \n",
    "            \n",
    "    #Normalização dos atributos para que obtenham o mesmo peso.\n",
    "    sc_x = StandardScaler()\n",
    "    x_train = sc_x.fit_transform(x_train)\n",
    "    x_test = sc_x.transform(x_test)   \n",
    "\n",
    "    for i in range(1,k+1):      \n",
    "       \n",
    "        classificador = neighbors.KNeighborsClassifier(n_neighbors = i, metric='euclidean')        \n",
    "        classificador.fit(x_train,y_train)\n",
    "        accuracy = classificador.score(x_test,y_test)\n",
    "        print('A Por centagem de acerto do KNN com K valendo' + ' ' + str(i) + ' ' + 'é de: + ' + str((accuracy)*100) + ' ' + '%') "
   ]
  },
  {
   "cell_type": "code",
   "execution_count": 7,
   "id": "9ef6a3f0",
   "metadata": {},
   "outputs": [],
   "source": [
    "def predicao(k,sample,x_train,x_test,y_train,y_test):    \n",
    "    sc_x = StandardScaler()\n",
    "    x_train = sc_x.fit_transform(x_train)\n",
    "    x_test = sc_x.transform(x_test)   \n",
    "    clf = neighbors.KNeighborsClassifier(n_neighbors = k, metric='euclidean')        \n",
    "    clf.fit(x_train,y_train)  \n",
    "    sample = sample.reshape(1,-1)\n",
    "    predicao= clf.predict(sample)\n",
    "    print(predicao)"
   ]
  },
  {
   "cell_type": "code",
   "execution_count": 8,
   "id": "2ba7b06c",
   "metadata": {},
   "outputs": [
    {
     "name": "stdout",
     "output_type": "stream",
     "text": [
      "(125973, 122)\n"
     ]
    }
   ],
   "source": [
    "print(x_train.shape)"
   ]
  },
  {
   "cell_type": "code",
   "execution_count": 9,
   "id": "72cf9b4e",
   "metadata": {},
   "outputs": [
    {
     "name": "stdout",
     "output_type": "stream",
     "text": [
      "(22544, 122)\n"
     ]
    }
   ],
   "source": [
    "print(x_test.shape)"
   ]
  },
  {
   "cell_type": "code",
   "execution_count": 10,
   "id": "6f2e437c",
   "metadata": {},
   "outputs": [],
   "source": [
    "sample = np.array([0.8261,0.6742,300.0935,0.7273,0.0791,0.8793,0.9563,\n",
    "0.3193,0.9997,0.7164,0.0179,0.4493,0.5410,0.6669,0.3183,0.9055,0.1363,\n",
    "0.4749,100.5502,0.9028,0.9632,0.2976,0.5401,0.7857,0.3345,0.6991,\n",
    "0.0935,0.7307,0.0692,0.8698,500,0.2074,0.9964,0.5653,0.2081,0.0934,\n",
    "0.5149,0.9674,0.1848,0.0919,0.4197,0.7634,500.3038,0.2860,0.4441,\n",
    "800.7194,0.0909,0.8340,0.5949,0.0674,0.4301,0.5339,0.4956,0.0999,\n",
    "0.8964,0.9961,0.7069,0.7377,0.4731,0.8692,0.4475,200.0894,0.9901,\n",
    "0.3843,0.7989,0.3109,300.2027,0.2356,0.4904,0.0472,0.5350,0.8940,\n",
    "0.9026,0.0723,0.0145,0.6727,0.1811,0.9115,0.1159,40.9690,0.1697,\n",
    "0.7131,0.1162,0.9507,0.2026,0.7140,0.8468,0.5608,200.1480,300.4620,\n",
    "0.0898,0.5390,500.7984,.7569,0.7161,0.4652,0.3266,0.4945,0.5332,\n",
    "0.8274,0.7018,0.6609,0.7173,0.0399,0.7191,0.5511,0.2917,0.9036,\n",
    "0.5485,0.3103,0.9103,0.9382,0.1655,0.6062,0.0671,0.1713,0.3159,\n",
    "0.8286,0.8367,0.8115,0.4329,0.0473,18])"
   ]
  },
  {
   "cell_type": "code",
   "execution_count": 11,
   "id": "64d46c0a",
   "metadata": {},
   "outputs": [
    {
     "name": "stdout",
     "output_type": "stream",
     "text": [
      "A Por centagem de acerto do KNN com K valendo 1 é de: + 69.07824698367637 %\n",
      "A Por centagem de acerto do KNN com K valendo 2 é de: + 69.19357700496806 %\n",
      "A Por centagem de acerto do KNN com K valendo 3 é de: + 69.21575585521647 %\n",
      "A Por centagem de acerto do KNN com K valendo 4 é de: + 69.28229240596167 %\n"
     ]
    }
   ],
   "source": [
    "masstest (k,x_train,x_test,y_train,y_test)"
   ]
  },
  {
   "cell_type": "code",
   "execution_count": null,
   "id": "7536f77e",
   "metadata": {},
   "outputs": [],
   "source": [
    "predicao(k,sample,x_train,x_test,y_train,y_test)"
   ]
  },
  {
   "cell_type": "code",
   "execution_count": null,
   "id": "c8bdff45",
   "metadata": {},
   "outputs": [],
   "source": []
  },
  {
   "cell_type": "code",
   "execution_count": null,
   "id": "82e31ac5",
   "metadata": {},
   "outputs": [],
   "source": []
  }
 ],
 "metadata": {
  "kernelspec": {
   "display_name": "Python 3 (ipykernel)",
   "language": "python",
   "name": "python3"
  },
  "language_info": {
   "codemirror_mode": {
    "name": "ipython",
    "version": 3
   },
   "file_extension": ".py",
   "mimetype": "text/x-python",
   "name": "python",
   "nbconvert_exporter": "python",
   "pygments_lexer": "ipython3",
   "version": "3.9.7"
  }
 },
 "nbformat": 4,
 "nbformat_minor": 5
}
